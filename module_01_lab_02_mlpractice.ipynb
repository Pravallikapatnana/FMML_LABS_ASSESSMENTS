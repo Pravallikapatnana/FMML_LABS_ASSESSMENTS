{
  "nbformat": 4,
  "nbformat_minor": 0,
  "metadata": {
    "colab": {
      "provenance": [],
      "include_colab_link": true
    },
    "kernelspec": {
      "name": "python3",
      "display_name": "Python 3"
    },
    "language_info": {
      "name": "python"
    }
  },
  "cells": [
    {
      "cell_type": "markdown",
      "metadata": {
        "id": "view-in-github",
        "colab_type": "text"
      },
      "source": [
        "<a href=\"https://colab.research.google.com/github/Pravallikapatnana/FMML_LABS_ASSESSMENTS/blob/main/module_01_lab_02_mlpractice.ipynb\" target=\"_parent\"><img src=\"https://colab.research.google.com/assets/colab-badge.svg\" alt=\"Open In Colab\"/></a>"
      ]
    },
    {
      "cell_type": "markdown",
      "metadata": {
        "id": "3Eu9VZbF01eq"
      },
      "source": [
        "# Machine learning terms and metrics\n",
        "\n",
        "FMML Module 1, Lab 2<br>\n",
        "\n",
        "\n",
        " In this lab, we will show a part of the ML pipeline by extracting features, training and testing"
      ]
    },
    {
      "cell_type": "code",
      "metadata": {
        "id": "8qBvyEem0vLi"
      },
      "source": [
        "import matplotlib.pyplot as plt\n",
        "import numpy as np\n",
        "from sklearn import datasets\n",
        "# set randomseed\n",
        "rng = np.random.default_rng(seed=42)"
      ],
      "execution_count": null,
      "outputs": []
    },
    {
      "cell_type": "markdown",
      "metadata": {
        "id": "u3t59g5s1HfC"
      },
      "source": [
        "In this lab, we will use the California Housing dataset. There are 20640 samples, each with 8 attributes like income of the block, age of the houses per district etc. The task is to predict the cost of the houses per district.\n",
        "\n",
        "Let us download and examine the dataset."
      ]
    },
    {
      "cell_type": "code",
      "metadata": {
        "id": "8LpqjN991GGJ",
        "colab": {
          "base_uri": "https://localhost:8080/"
        },
        "outputId": "b50c49b7-990b-476a-e8af-1a2c1cecfb2a"
      },
      "source": [
        " dataset =  datasets.fetch_california_housing()\n",
        " # print(dataset.DESCR)  # uncomment this if you want to know more about this dataset\n",
        " # print(dataset.keys())  # if you want to know what else is there in this dataset\n",
        " dataset.target = dataset.target.astype(np.int) # so that we can classify\n",
        " print(dataset.data.shape)\n",
        " print(dataset.target.shape)"
      ],
      "execution_count": null,
      "outputs": [
        {
          "output_type": "stream",
          "name": "stdout",
          "text": [
            "(20640, 8)\n",
            "(20640,)\n"
          ]
        },
        {
          "output_type": "stream",
          "name": "stderr",
          "text": [
            "<ipython-input-2-60ae2e9a125e>:4: DeprecationWarning: `np.int` is a deprecated alias for the builtin `int`. To silence this warning, use `int` by itself. Doing this will not modify any behavior and is safe. When replacing `np.int`, you may wish to use e.g. `np.int64` or `np.int32` to specify the precision. If you wish to review your current use, check the release note link for additional information.\n",
            "Deprecated in NumPy 1.20; for more details and guidance: https://numpy.org/devdocs/release/1.20.0-notes.html#deprecations\n",
            "  dataset.target = dataset.target.astype(np.int) # so that we can classify\n"
          ]
        }
      ]
    },
    {
      "cell_type": "markdown",
      "metadata": {
        "id": "iNx4174W5xRg"
      },
      "source": [
        "Here is a function for calculating the 1-nearest neighbours"
      ]
    },
    {
      "cell_type": "code",
      "metadata": {
        "id": "07zpydQj1hIQ"
      },
      "source": [
        "def NN1(traindata, trainlabel, query):\n",
        "  diff  = traindata - query  # find the difference between features. Numpy automatically takes care of the size here\n",
        "  sq = diff*diff # square the differences\n",
        "  dist = sq.sum(1) # add up the squares\n",
        "  label = trainlabel[np.argmin(dist)] # our predicted label is the label of the training data which has the least distance from the query\n",
        "  return label\n",
        "\n",
        "def NN(traindata, trainlabel, testdata):\n",
        "  # we will run nearest neighbour for each sample in the test data\n",
        "  # and collect the predicted classes in an array using list comprehension\n",
        "  predlabel = np.array([NN1(traindata, trainlabel, i) for i in testdata])\n",
        "  return predlabel"
      ],
      "execution_count": null,
      "outputs": []
    },
    {
      "cell_type": "markdown",
      "metadata": {
        "id": "03JktkfIGaje"
      },
      "source": [
        "We will also define a 'random classifier', which randomly allots labels to each sample"
      ]
    },
    {
      "cell_type": "code",
      "metadata": {
        "id": "fogWAtjyGhAH"
      },
      "source": [
        "def RandomClassifier(traindata, trainlabel, testdata):\n",
        "  # in reality, we don't need these arguments\n",
        "\n",
        "  classes = np.unique(trainlabel)\n",
        "  rints = rng.integers(low=0, high=len(classes), size=len(testdata))\n",
        "  predlabel = classes[rints]\n",
        "  return predlabel"
      ],
      "execution_count": null,
      "outputs": []
    },
    {
      "cell_type": "markdown",
      "metadata": {
        "id": "1Hjf1KHs7fU5"
      },
      "source": [
        "Let us define a metric 'Accuracy' to see how good our learning algorithm is. Accuracy is the ratio of the number of correctly classified samples to the total number of samples. The higher the accuracy, the better the algorithm."
      ]
    },
    {
      "cell_type": "code",
      "metadata": {
        "id": "ouuCqWU07bz-"
      },
      "source": [
        "def Accuracy(gtlabel, predlabel):\n",
        "  assert len(gtlabel)==len(predlabel), \"Length of the groundtruth labels and predicted labels should be the same\"\n",
        "  correct = (gtlabel==predlabel).sum() # count the number of times the groundtruth label is equal to the predicted label.\n",
        "  return correct/len(gtlabel)"
      ],
      "execution_count": null,
      "outputs": []
    },
    {
      "cell_type": "markdown",
      "metadata": {
        "id": "4vJFwBFa9Klw"
      },
      "source": [
        "Let us make a function to split the dataset with the desired probability."
      ]
    },
    {
      "cell_type": "code",
      "metadata": {
        "id": "Ko0VzpSM2Tdi"
      },
      "source": [
        "def split(data, label, percent):\n",
        "  # generate a random number for each sample\n",
        "  rnd = rng.random(len(label))\n",
        "  split1 = rnd<percent\n",
        "  split2 = rnd>=percent\n",
        "  split1data = data[split1,:]\n",
        "  split1label = label[split1]\n",
        "  split2data = data[split2,:]\n",
        "  split2label = label[split2]\n",
        "  return split1data, split1label, split2data, split2label"
      ],
      "execution_count": null,
      "outputs": []
    },
    {
      "cell_type": "markdown",
      "metadata": {
        "id": "AcK3LEAJ_LGC"
      },
      "source": [
        "We will reserve 20% of our dataset as the test set. We will not change this portion throughout our experiments"
      ]
    },
    {
      "cell_type": "code",
      "metadata": {
        "id": "bBZkHBLJ1iU-",
        "colab": {
          "base_uri": "https://localhost:8080/"
        },
        "outputId": "fd5e0d59-c129-4f23-e500-44c035104375"
      },
      "source": [
        "testdata, testlabel, alltraindata, alltrainlabel = split(dataset.data, dataset.target, 20/100)\n",
        "print('Number of test samples = ', len(testlabel))\n",
        "print('Number of other samples = ', len(alltrainlabel))\n",
        "print('Percent of test data = ', len(testlabel)*100/len(dataset.target),'%')"
      ],
      "execution_count": null,
      "outputs": [
        {
          "output_type": "stream",
          "name": "stdout",
          "text": [
            "Number of test samples =  4144\n",
            "Number of other samples =  16496\n",
            "Percent of test data =  20.07751937984496 %\n"
          ]
        }
      ]
    },
    {
      "cell_type": "markdown",
      "metadata": {
        "id": "a6Ss0Z6IAGNV"
      },
      "source": [
        "## Experiments with splits\n",
        "\n",
        "Let us reserve some of our train data as a validation set"
      ]
    },
    {
      "cell_type": "code",
      "metadata": {
        "id": "WFew2iry_7W7"
      },
      "source": [
        "traindata, trainlabel, valdata, vallabel = split(alltraindata, alltrainlabel, 75/100)"
      ],
      "execution_count": null,
      "outputs": []
    },
    {
      "cell_type": "markdown",
      "metadata": {
        "id": "60hiu4clFN1i"
      },
      "source": [
        "What is the accuracy of our classifiers on the train dataset?"
      ]
    },
    {
      "cell_type": "code",
      "metadata": {
        "id": "DBlZDTHUFTZx",
        "colab": {
          "base_uri": "https://localhost:8080/"
        },
        "outputId": "649c471e-f405-42db-9b4c-91bbcbc5ca21"
      },
      "source": [
        "trainpred = NN(traindata, trainlabel, traindata)\n",
        "trainAccuracy = Accuracy(trainlabel, trainpred)\n",
        "print(\"Train accuracy using nearest neighbour is \", trainAccuracy)\n",
        "\n",
        "trainpred = RandomClassifier(traindata, trainlabel, traindata)\n",
        "trainAccuracy = Accuracy(trainlabel, trainpred)\n",
        "print(\"Train accuracy using random classifier is \", trainAccuracy)"
      ],
      "execution_count": null,
      "outputs": [
        {
          "output_type": "stream",
          "name": "stdout",
          "text": [
            "Train accuracy using nearest neighbour is  1.0\n",
            "Train accuracy using random classifier is  0.164375808538163\n"
          ]
        }
      ]
    },
    {
      "cell_type": "markdown",
      "metadata": {
        "id": "7h08-9gJDtSy"
      },
      "source": [
        "For nearest neighbour, the train accuracy is always 1. The accuracy of the random classifier is close to 1/(number of classes) which is 0.1666 in our case.\n",
        "\n",
        "Let us predict the labels for our validation set and get the accuracy"
      ]
    },
    {
      "cell_type": "code",
      "metadata": {
        "id": "4h7bXoW_2H3v",
        "colab": {
          "base_uri": "https://localhost:8080/"
        },
        "outputId": "b1cdabeb-9cec-468b-a0aa-3d0c39837828"
      },
      "source": [
        "valpred = NN(traindata, trainlabel, valdata)\n",
        "valAccuracy = Accuracy(vallabel, valpred)\n",
        "print(\"Validation accuracy using nearest neighbour is \", valAccuracy)\n",
        "\n",
        "valpred = RandomClassifier(traindata, trainlabel, valdata)\n",
        "valAccuracy = Accuracy(vallabel, valpred)\n",
        "print(\"Validation accuracy using random classifier is \", valAccuracy)"
      ],
      "execution_count": null,
      "outputs": [
        {
          "output_type": "stream",
          "name": "stdout",
          "text": [
            "Validation accuracy using nearest neighbour is  0.34108527131782945\n",
            "Validation accuracy using random classifier is  0.1688468992248062\n"
          ]
        }
      ]
    },
    {
      "cell_type": "markdown",
      "metadata": {
        "id": "py9bLguFEjfg"
      },
      "source": [
        "Validation accuracy of nearest neighbour is considerably less than its train accuracy while the validation accuracy of random classifier is the same. However, the validation accuracy of nearest neighbour is twice that of the random classifier.\n",
        "\n",
        "Now let us try another random split and check the validation accuracy"
      ]
    },
    {
      "cell_type": "code",
      "metadata": {
        "id": "ujm3cyYzEntE",
        "colab": {
          "base_uri": "https://localhost:8080/"
        },
        "outputId": "18d3c420-775f-4e87-c8e6-97d41df08146"
      },
      "source": [
        "traindata, trainlabel, valdata, vallabel = split(alltraindata, alltrainlabel, 75/100)\n",
        "valpred = NN(traindata, trainlabel, valdata)\n",
        "valAccuracy = Accuracy(vallabel, valpred)\n",
        "print(\"Validation accuracy of nearest neighbour is \", valAccuracy)"
      ],
      "execution_count": null,
      "outputs": [
        {
          "output_type": "stream",
          "name": "stdout",
          "text": [
            "Validation accuracy of nearest neighbour is  0.34048257372654156\n"
          ]
        }
      ]
    },
    {
      "cell_type": "markdown",
      "metadata": {
        "id": "oSOx7U83EKie"
      },
      "source": [
        "You can run the above cell multiple times to try with different random splits.\n",
        "We notice that the accuracy is different for each run, but close together.\n",
        "\n",
        "Now let us compare it with the accuracy we get on the test dataset."
      ]
    },
    {
      "cell_type": "code",
      "metadata": {
        "id": "PNEZ5ToYBEDW",
        "colab": {
          "base_uri": "https://localhost:8080/"
        },
        "outputId": "35459afa-8672-4733-af46-301132ca50ac"
      },
      "source": [
        "testpred = NN(alltraindata, alltrainlabel, testdata)\n",
        "testAccuracy = Accuracy(testlabel, testpred)\n",
        "print('Test accuracy is ', testAccuracy)"
      ],
      "execution_count": null,
      "outputs": [
        {
          "output_type": "stream",
          "name": "stdout",
          "text": [
            "Test accuracy is  0.34917953667953666\n"
          ]
        }
      ]
    },
    {
      "cell_type": "markdown",
      "metadata": {
        "id": "w3dGD531K3gH"
      },
      "source": [
        "### Try it out for yourself and answer:\n",
        "1. How is the accuracy of the validation set affected if we increase the percentage of validation set? What happens when we reduce it?\n",
        "2. How does the size of the train and validation set affect how well we can predict the accuracy on the test set using the validation set?\n",
        "3. What do you think is a good percentage to reserve for the validation set so that thest two factors are balanced?\n",
        "\n",
        "Answer for both nearest neighbour and random classifier. You can note down the values for your experiments and plot a graph using  <a href=https://matplotlib.org/stable/gallery/lines_bars_and_markers/step_demo.html#sphx-glr-gallery-lines-bars-and-markers-step-demo-py>plt.plot<href>. Check also for extreme values for splits, like 99.9% or 0.1%"
      ]
    },
    {
      "cell_type": "markdown",
      "metadata": {
        "id": "PnYvkAZLQY7h"
      },
      "source": [
        "## Multiple Splits\n",
        "\n",
        "One way to get more accurate estimates for the test accuracy is by using <b>crossvalidation</b>. Here, we will try a simple version, where we do multiple train/val splits and take the average of validation accuracies as the test accuracy estimation. Here is a function for doing this. Note that this function will take a long time to execute."
      ]
    },
    {
      "cell_type": "code",
      "metadata": {
        "id": "E4nGCUQXBTzo"
      },
      "source": [
        "# you can use this function for random classifier also\n",
        "def AverageAccuracy(alldata, alllabel, splitpercent, iterations, classifier=NN):\n",
        "  accuracy = 0\n",
        "  for ii in range(iterations):\n",
        "    traindata, trainlabel, valdata, vallabel = split(alldata, alllabel, splitpercent)\n",
        "    valpred = classifier(traindata, trainlabel, valdata)\n",
        "    accuracy += Accuracy(vallabel, valpred)\n",
        "  return accuracy/iterations # average of all accuracies"
      ],
      "execution_count": null,
      "outputs": []
    },
    {
      "cell_type": "code",
      "metadata": {
        "id": "H3qtNar7Bbik",
        "colab": {
          "base_uri": "https://localhost:8080/"
        },
        "outputId": "e814affb-f50d-4e9e-ecb6-a869b3c15ec5"
      },
      "source": [
        "print('Average validation accuracy is ', AverageAccuracy(alltraindata, alltrainlabel, 75/100, 10, classifier=NN))\n",
        "testpred = NN(alltraindata, alltrainlabel, testdata)\n",
        "print('test accuracy is ',Accuracy(testlabel, testpred) )"
      ],
      "execution_count": null,
      "outputs": [
        {
          "output_type": "stream",
          "name": "stdout",
          "text": [
            "Average validation accuracy is  0.33584635395170215\n",
            "test accuracy is  0.34917953667953666\n"
          ]
        }
      ]
    },
    {
      "cell_type": "markdown",
      "metadata": {
        "id": "33GIn4x5VH-d"
      },
      "source": [
        "This is a very simple way of doing cross-validation. There are many well-known algorithms for cross-validation, like k-fold cross-validation, leave-one-out etc. This will be covered in detail in a later module. For more information about cross-validation, check <a href=https://en.wikipedia.org/wiki/Cross-validation_(statistics)>Cross-validatioin (Wikipedia)</a>\n",
        "\n",
        "### Questions\n",
        "1. Does averaging the validation accuracy across multiple splits give more consistent results?\n",
        "2. Does it give more accurate estimate of test accuracy?\n",
        "3. What is the effect of the number of iterations on the estimate? Do we get a better estimate with higher iterations?\n",
        "4. Consider the results you got for the previous questions. Can we deal with a very small train dataset or validation dataset by increasing the iterations?\n"
      ]
    },
    {
      "cell_type": "code",
      "source": [
        "Yes, averaging the validation accuracy across multiple splits (e.g., using cross-validation) can often give more consistent and reliable results compared to relying on a single validation split. Cross-validation is a technique used in machine learning to assess the performance of a model and reduce the risk of overfitting by repeatedly splitting the dataset into training and validation subsets.\n",
        "\n",
        "Here's why averaging validation accuracy across multiple splits can be beneficial for consistency:\n",
        "\n",
        "1. **Reduced Variance:** A single random split of data into training and validation sets may lead to variability in the performance metric (e.g., accuracy) due to the randomness in the data partitioning. Averaging over multiple splits helps reduce this variance, providing a more stable estimate of model performance.\n",
        "\n",
        "2. **Better Generalization:** Cross-validation assesses a model's ability to generalize to different subsets of the data. Averaging results across multiple splits gives you a more robust estimate of how well your model is likely to perform on unseen data.\n",
        "\n",
        "3. **Detecting Overfitting:** If your model performs exceptionally well on a single validation split but poorly on others, it may be overfitting to the specific training-validation split. Averaging over multiple splits helps detect such situations and provides a more accurate assessment of model generalization.\n",
        "\n",
        "4. **More Reliable Hyperparameter Tuning:** When tuning hyperparameters, cross-validation allows you to evaluate a model's performance across a range of hyperparameter values. Averaging results over multiple splits helps you choose the hyperparameters that consistently lead to better performance.\n",
        "\n",
        "In summary, averaging validation accuracy across multiple splits, as done in cross-validation, is a best practice in machine learning for obtaining more consistent and trustworthy performance estimates for your models."
      ],
      "metadata": {
        "id": "6OvZ8NMcJW9z"
      },
      "execution_count": null,
      "outputs": []
    },
    {
      "cell_type": "code",
      "source": [
        "Averaging validation accuracy across multiple splits using techniques like cross-validation provides a more accurate estimate of a model's generalization performance compared to a single validation split. However, it's important to clarify that the \"test accuracy\" typically refers to the performance of your model on a completely independent and unseen dataset, which is distinct from the validation accuracy obtained through cross-validation.\n",
        "\n",
        "Here's how it works:\n",
        "\n",
        "1. **Validation Accuracy (Cross-Validation):** Cross-validation involves splitting your dataset into multiple subsets (folds), training and evaluating your model on each fold, and then averaging the results. This process provides a more accurate estimate of how well your model is likely to perform on unseen data compared to a single validation split. It helps you assess your model's generalization performance more reliably within your dataset.\n",
        "\n",
        "2. **Test Accuracy:** The test accuracy is obtained by evaluating your trained model on a separate dataset that the model has never seen during training or validation. This independent test dataset simulates how well your model will perform in real-world scenarios where you encounter new, unseen data. The test accuracy is the most accurate estimate of how well your model generalizes to new, unseen examples.\n",
        "\n",
        "While cross-validation gives you a better estimate of your model's performance within your dataset and helps you tune hyperparameters and assess model quality, the true measure of how well your model will perform in production is the test accuracy on an independent dataset. Therefore, you should still reserve a portion of your data for this purpose and not use the test data for model development or hyperparameter tuning.\n",
        "\n",
        "In summary, cross-validation provides a more accurate estimate of how well your model performs within your dataset, but the ultimate measure of real-world performance is the test accuracy on an independent dataset."
      ],
      "metadata": {
        "id": "RrEWLUPnJC4-"
      },
      "execution_count": null,
      "outputs": []
    },
    {
      "cell_type": "code",
      "source": [
        "The number of iterations in machine learning, particularly in iterative optimization algorithms like gradient descent, can have an impact on the quality of the estimate or the performance of your model. However, whether you get a better estimate with higher iterations depends on several factors, and there isn't a one-size-fits-all answer. Here are some considerations:\n",
        "\n",
        "1. **Convergence:** In many cases, increasing the number of iterations can help the optimization algorithm converge to a better solution. For example, in gradient descent, more iterations may allow the algorithm to reach a lower value of the cost function, indicating a better-fitting model. However, there's a diminishing return effect, and at some point, further iterations may not significantly improve the estimate.\n",
        "\n",
        "2. **Overfitting:** If you train your model for too many iterations, it may start to overfit the training data. Overfitting occurs when a model learns to fit the noise in the data rather than the underlying patterns. This can lead to a model that performs well on the training data but poorly on new, unseen data. Regularization techniques are often used to mitigate overfitting.\n",
        "\n",
        "3. **Computational Resources:** Training for a larger number of iterations may require more computational resources (e.g., time and memory). You should balance the computational cost with the expected improvement in model performance.\n",
        "\n",
        "4. **Early Stopping:** In practice, it's common to use a technique called early stopping, where you monitor the performance on a validation set during training. When the validation performance stops improving or starts to degrade, you stop training, even if you haven't reached a predetermined number of iterations. This prevents overfitting and ensures you have a model that generalizes well.\n",
        "\n",
        "5. **Hyperparameter Tuning:** The number of iterations can also be considered a hyperparameter that needs tuning. You may find that the optimal number of iterations varies depending on the dataset and the specific machine learning algorithm you are using.\n",
        "\n",
        "In summary, the effect of the number of iterations on the estimate depends on the specific problem, algorithm, and data. While increasing iterations can improve the estimate up to a point, it's crucial to monitor for signs of overfitting and use techniques like early stopping to strike a balance between model performance and computational efficiency. The optimal number of iterations may need to be determined through experimentation and hyperparameter tuning."
      ],
      "metadata": {
        "id": "y74tvEsqJbhm"
      },
      "execution_count": null,
      "outputs": []
    },
    {
      "cell_type": "code",
      "source": [
        "Increasing the number of iterations in a machine learning algorithm is not a direct solution for dealing with a very small training dataset or validation dataset. While increasing the number of iterations may help improve the model's fit to the training data, it does not address the fundamental limitations of having a small dataset.\n",
        "\n",
        "Here are some reasons why simply increasing iterations is not a sufficient solution:\n",
        "\n",
        "1. **Overfitting:** If you have a very small training dataset, increasing the number of iterations can make the model fit the noise in the data more closely, leading to overfitting. Overfit models perform well on the training data but generalize poorly to new, unseen data. In such cases, you are likely to observe poor performance on the validation or test dataset.\n",
        "\n",
        "2. **Data Scarcity:** With a small dataset, there may not be enough diverse examples to capture the underlying patterns in the data. No amount of additional iterations can compensate for the lack of representative data.\n",
        "\n",
        "3. **Computational Efficiency:** While increasing iterations can improve model fit, it may also increase the computational cost and training time. For small datasets, it's often more efficient to focus on other aspects of model development, such as feature engineering, hyperparameter tuning, or using simpler models.\n",
        "\n",
        "4. **Validation Data:** When you have a small validation dataset, it becomes challenging to reliably assess your model's performance. A small validation dataset can lead to high variability in evaluation metrics, making it difficult to make informed decisions about your model's quality.\n",
        "\n",
        "To address the challenges posed by small datasets, consider the following approaches:\n",
        "\n",
        "1. **Data Augmentation:** If possible, augment your small dataset by creating variations of existing examples. This can help introduce more diversity into the data.\n",
        "\n",
        "2. **Regularization:** Apply regularization techniques (e.g., L1, L2 regularization) to prevent overfitting when working with small datasets.\n",
        "\n",
        "3. **Transfer Learning:** If applicable, consider using pre-trained models or transfer learning techniques, which leverage knowledge from larger datasets to improve performance on your specific task.\n",
        "\n",
        "4. **Use Simpler Models:** Simpler models with fewer parameters may generalize better when data is limited.\n",
        "\n",
        "5. **Cross-Validation:** Use cross-validation to get a more robust estimate of model performance, even with a small dataset.\n",
        "\n",
        "In summary, while increasing iterations can play a role in model training, it is not a substitute for addressing the inherent challenges of working with small datasets. Careful consideration of data-related issues and appropriate techniques to mitigate them are essential when dealing with limited data."
      ],
      "metadata": {
        "id": "qNlWCijeJl3M"
      },
      "execution_count": null,
      "outputs": []
    }
  ]
}